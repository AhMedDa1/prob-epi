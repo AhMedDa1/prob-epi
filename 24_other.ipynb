{
  "cells": [
    {
      "cell_type": "markdown",
      "metadata": {},
      "source": [
        "# Other topics\n",
        "\n",
        "Other topics which we covered (I will be adding these materials to the online version soon):\n",
        "\n",
        "- Bayesian regularisation from optimisation perspective\n",
        "- Laplace approximation\n",
        "- Bayesian optimisation\n",
        "- Kronecker product (is already partially covered in \"LGCP\" chapter)\n",
        "- Log-Gaussian Cox process (LGCP) (is already partially covered in \"LGCP\" chapter)\n",
        "- Renewal equation\n",
        "- Hilbert Space Gaussian Process approximation (HSGP)\n",
        "- Active learning\n",
        "- Variational autoencoders (VAEs)\n",
        "\n",
        "Further interesting topics which we did not have time for (but I might add an online version in the future):\n",
        "\n",
        "- Hidden Markov Models, in detail\n",
        "- Variational inference\n",
        "- Bayesian neural networks"
      ]
    }
  ],
  "metadata": {
    "colab": {
      "provenance": []
    },
    "kernelspec": {
      "display_name": "Python 3",
      "name": "python3"
    },
    "language_info": {
      "codemirror_mode": {
        "name": "ipython",
        "version": 3
      },
      "file_extension": ".py",
      "mimetype": "text/x-python",
      "name": "python",
      "nbconvert_exporter": "python",
      "pygments_lexer": "ipython3",
      "version": "3.9.7"
    }
  },
  "nbformat": 4,
  "nbformat_minor": 0
}
