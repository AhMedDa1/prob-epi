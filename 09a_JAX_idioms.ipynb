{
  "cells": [
    {
      "cell_type": "markdown",
      "metadata": {},
      "source": [
        "# JAX idioms\n",
        "\n",
        "Since Numpyro uses JAX as a backend, it is usful to know how to work with JAX efficiently."
      ]
    },
    {
      "cell_type": "markdown",
      "metadata": {},
      "source": [
        "## Indexing\n",
        "\n",
        "Even thought, `jax.numpy as jnp` looks nearly indistinguishable from `numpy as np`, and `jnp` would behave in many cases indistinguishable from `np`, there is a few differences. Indexing is one of them: JAX arrays are <span style=\"color:orange\">immutable</span>.\n",
        "\n",
        "In JAX, array indexing adapts NumPy's syntax to fit immutable arrays. Direct assignments like `array[index] = value` are not supported. Instead, JAX uses the `.at` method for updates, allowing modifications in a purely functional style. For example, setting an element is done with \n",
        "\n",
        "`array = array.at[index].set(value)`, \n",
        "\n",
        "and incrementing an element uses \n",
        "\n",
        "`array = array.at[index].add(value)`. \n",
        "\n",
        "This method returns a new array with the desired change, maintaining the original array unchanged, crucial for JAX’s efficiency in automatic differentiation and optimization."
      ]
    },
    {
      "cell_type": "code",
      "execution_count": null,
      "metadata": {},
      "outputs": [],
      "source": []
    },
    {
      "cell_type": "code",
      "execution_count": null,
      "metadata": {},
      "outputs": [],
      "source": []
    }
  ],
  "metadata": {
    "colab": {
      "provenance": []
    },
    "kernelspec": {
      "display_name": "Python 3",
      "name": "python3"
    },
    "language_info": {
      "codemirror_mode": {
        "name": "ipython",
        "version": 3
      },
      "file_extension": ".py",
      "mimetype": "text/x-python",
      "name": "python",
      "nbconvert_exporter": "python",
      "pygments_lexer": "ipython3",
      "version": "3.9.7"
    }
  },
  "nbformat": 4,
  "nbformat_minor": 0
}
